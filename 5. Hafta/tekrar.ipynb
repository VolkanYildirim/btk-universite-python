{
 "cells": [
  {
   "cell_type": "markdown",
   "metadata": {},
   "source": [
    "## Dosya İşlemleri ##"
   ]
  },
  {
   "cell_type": "markdown",
   "metadata": {},
   "source": [
    "## Dosya Açma(Open) ##\n",
    "\n",
    "open(\"dosya_adı\",\"erişim_kipi\")\n",
    "\n",
    "**w erişim kipi** => Dosya yoksa oluştur varsa dosyayı silip yeniden oluşturur.(write kelimesinin kısaltması)"
   ]
  },
  {
   "cell_type": "code",
   "execution_count": null,
   "metadata": {},
   "outputs": [],
   "source": [
    "open(\"test.txt\",\"w\") #bulunduğumuz dizinde dosya oluşturuyoruz."
   ]
  },
  {
   "cell_type": "code",
   "execution_count": null,
   "metadata": {},
   "outputs": [],
   "source": [
    "file = open(\"test.txt\",\"w\")#dosya üzerinde işlem yapmak için kullandığımız dosya imlecini file değişkenine atadık."
   ]
  },
  {
   "cell_type": "code",
   "execution_count": null,
   "metadata": {},
   "outputs": [],
   "source": [
    "file.close()#sistem kaynaklarını gereksiz kullanmamak için dosyamızı kapattık."
   ]
  },
  {
   "cell_type": "code",
   "execution_count": null,
   "metadata": {},
   "outputs": [],
   "source": [
    "file = open(\"test.txt\",\"w\",encoding=\"utf-8\") #Türkçe karakter "
   ]
  },
  {
   "cell_type": "code",
   "execution_count": null,
   "metadata": {},
   "outputs": [],
   "source": [
    "file.write(\"İsmail\")\n",
    "file.close()"
   ]
  },
  {
   "cell_type": "markdown",
   "metadata": {},
   "source": [
    "**a kipi** => Dosya yoksa oluştur varsa sonuna ekle."
   ]
  },
  {
   "cell_type": "code",
   "execution_count": null,
   "metadata": {},
   "outputs": [],
   "source": [
    "file = open(\"test.txt\",\"a\",encoding=\"utf-8\")\n",
    "file.write(\" Merhaba Dünya\")\n",
    "file.close()"
   ]
  },
  {
   "cell_type": "code",
   "execution_count": null,
   "metadata": {},
   "outputs": [],
   "source": [
    "file = open(\"test.txt\",\"a\",encoding=\"utf-8\")"
   ]
  },
  {
   "cell_type": "code",
   "execution_count": null,
   "metadata": {},
   "outputs": [],
   "source": [
    "file.write(\"satır 1 \\n\") #\\n bir alt satıra geç"
   ]
  },
  {
   "cell_type": "code",
   "execution_count": null,
   "metadata": {},
   "outputs": [],
   "source": [
    "file.write(\"Satır 2 \\n\")"
   ]
  },
  {
   "cell_type": "code",
   "execution_count": null,
   "metadata": {},
   "outputs": [],
   "source": [
    "file.write(\"Satır 2 \\n\")"
   ]
  },
  {
   "cell_type": "code",
   "execution_count": null,
   "metadata": {},
   "outputs": [],
   "source": [
    "file.close()"
   ]
  },
  {
   "cell_type": "markdown",
   "metadata": {},
   "source": [
    "**Dosya Okuma (r erişim kipi)** \n",
    "\n",
    "Dosyadan veri okumak için kullanırız."
   ]
  },
  {
   "cell_type": "code",
   "execution_count": null,
   "metadata": {},
   "outputs": [],
   "source": [
    "file = open(\"test2.txt\",\"r\",encoding=\"utf-8\") \n",
    "#dosya bulunamadığı zaman FileNotFoundError hatası alırız."
   ]
  },
  {
   "cell_type": "code",
   "execution_count": null,
   "metadata": {},
   "outputs": [],
   "source": [
    "try:\n",
    "    file = open(\"test.txt\",\"r\",encoding=\"utf-8\")\n",
    "    liste = list(file) #dosyamızdaki değerleri bir listeye aktardık.\n",
    "    print(liste)\n",
    "    file.close()\n",
    "except FileNotFoundError:\n",
    "    print(\"Veriler2 dosyası bulunamadı\")\n",
    "print(\"btk\")\n",
    "    "
   ]
  },
  {
   "cell_type": "code",
   "execution_count": null,
   "metadata": {},
   "outputs": [],
   "source": [
    "try:\n",
    "    file = open(\"test.txt\",\"r\",encoding=\"utf-8\")\n",
    "    for i in file:#for ile test.txt dosyasının içeriğini satır satır yazdırıyoruz.\n",
    "        print(i,end=\"\")\n",
    "    file.close()\n",
    "except FileNotFoundError:\n",
    "    print(\"Veriler2 dosyası bulunamadı\")\n",
    "print(\"btk\")"
   ]
  },
  {
   "cell_type": "markdown",
   "metadata": {},
   "source": [
    "## Read Fonksiyonu ##"
   ]
  },
  {
   "cell_type": "code",
   "execution_count": null,
   "metadata": {},
   "outputs": [],
   "source": [
    "file = open(\"test.txt\",\"r\",encoding=\"utf-8\")\n",
    "txt = file.read()#Dosyanın tamamını okuduk ve dosya imleci dosyanın en sonuna gitti.\n",
    "file.close()\n",
    "print(txt)"
   ]
  },
  {
   "cell_type": "markdown",
   "metadata": {},
   "source": [
    "## readline Fonksiyonu ##"
   ]
  },
  {
   "cell_type": "markdown",
   "metadata": {},
   "source": [
    "**readline** fonksiyonu her çalıştırıldığında bir satır okunur ve dosya imleci bir sonraki satır başına geçer."
   ]
  },
  {
   "cell_type": "code",
   "execution_count": null,
   "metadata": {},
   "outputs": [],
   "source": [
    "file = open(\"test.txt\",\"r\",encoding=\"utf-8\")"
   ]
  },
  {
   "cell_type": "code",
   "execution_count": null,
   "metadata": {},
   "outputs": [],
   "source": [
    "print(file.readline())"
   ]
  },
  {
   "cell_type": "code",
   "execution_count": null,
   "metadata": {},
   "outputs": [],
   "source": [
    "print(file.readline())"
   ]
  },
  {
   "cell_type": "code",
   "execution_count": null,
   "metadata": {},
   "outputs": [],
   "source": [
    "print(file.readline())"
   ]
  },
  {
   "cell_type": "code",
   "execution_count": null,
   "metadata": {},
   "outputs": [],
   "source": [
    "file.close()"
   ]
  },
  {
   "cell_type": "code",
   "execution_count": null,
   "metadata": {},
   "outputs": [],
   "source": [
    "file = open(\"test.txt\",\"r\",encoding=\"utf-8\")\n",
    "values = file.readlines()#Tüm dosyayı liste halinde verir.\n",
    "file.close()\n",
    "print(type(values))\n",
    "print(values)"
   ]
  },
  {
   "cell_type": "code",
   "execution_count": null,
   "metadata": {},
   "outputs": [],
   "source": [
    "#Bir dosyayı otamatik olarak kapatma\n",
    "with open(\"test.txt\",\"r\",encoding=\"utf-8\") as file:\n",
    "    for i in file:\n",
    "        print(i)"
   ]
  },
  {
   "cell_type": "markdown",
   "metadata": {},
   "source": [
    "## tell Fonksiyonu ##"
   ]
  },
  {
   "cell_type": "code",
   "execution_count": null,
   "metadata": {},
   "outputs": [],
   "source": [
    "with open(\"test.txt\",\"r\",encoding=\"utf-8\") as file:\n",
    "    print(file.tell())#İmlecin hangi byte üzerinde olduğunu verir."
   ]
  },
  {
   "cell_type": "code",
   "execution_count": null,
   "metadata": {},
   "outputs": [],
   "source": [
    "with open(\"test.txt\",\"r\",encoding=\"utf-8\") as file:\n",
    "    file.seek(10)#10. byte'a gidiyoruz.\n",
    "    print(file.tell())\n",
    "    veri = file.read(5)\n",
    "    print(file.tell())\n",
    "    print(veri)\n",
    "    veri = file.read(5)\n",
    "    print(veri)\n",
    "    "
   ]
  },
  {
   "cell_type": "markdown",
   "metadata": {},
   "source": [
    "## r+ Erişim Kipi ##"
   ]
  },
  {
   "cell_type": "markdown",
   "metadata": {},
   "source": [
    "Hem okuma hem yazma yapmamızı sağlayan erişim kipidir."
   ]
  },
  {
   "cell_type": "code",
   "execution_count": null,
   "metadata": {},
   "outputs": [],
   "source": [
    "with open(\"test.txt\",\"r+\",encoding = \"utf-8\") as file: \n",
    "    file.seek(10) # 10. byte\n",
    "    file.write(\"ismail\")\n",
    "    print(file.tell())\n",
    "    print(file.readline())"
   ]
  },
  {
   "cell_type": "code",
   "execution_count": null,
   "metadata": {},
   "outputs": [],
   "source": [
    "with open(\"test.txt\",\"r+\",encoding=\"utf-8\") as file:\n",
    "    file.write(\"son\")#dosyanın en başına yazar.\n",
    "    print(file.read())"
   ]
  },
  {
   "cell_type": "code",
   "execution_count": null,
   "metadata": {},
   "outputs": [],
   "source": [
    "#Dosyanın sonuna ekleme yapmak istediğimizde \"a\" kipini kullanırsak dosya açıldığında dosya imleci en sonda bulunur.\n",
    "with open(\"test.txt\",\"a\",encoding=\"utf-8\") as file:\n",
    "    file.write(\"son\\n\")"
   ]
  },
  {
   "cell_type": "markdown",
   "metadata": {},
   "source": [
    "## Tkinter ##"
   ]
  },
  {
   "cell_type": "code",
   "execution_count": 13,
   "metadata": {},
   "outputs": [],
   "source": [
    "from tkinter import *\n",
    "window = Tk()\n",
    "window.title(\"Hesap Makinesi\")\n",
    "window.mainloop()"
   ]
  },
  {
   "cell_type": "code",
   "execution_count": 14,
   "metadata": {},
   "outputs": [],
   "source": [
    "from tkinter import *\n",
    "window = Tk()\n",
    "window.title(\"Hesap Makinesi\")\n",
    "lbl = Label(window, text=\"Merhaba\")\n",
    "lbl.grid(column=0, row=0)\n",
    "window.mainloop()"
   ]
  },
  {
   "cell_type": "code",
   "execution_count": 15,
   "metadata": {},
   "outputs": [],
   "source": [
    "from tkinter import *\n",
    "window = Tk()\n",
    "window.title(\"Hesap Makinesi\")\n",
    "window.geometry('350x200')\n",
    "lbl = Label(window, text=\"Merhaba\")\n",
    "lbl.grid(column=0, row=0)\n",
    "btn = Button(window, text=\"Hesapla\")\n",
    "btn.grid(column=0, row=1)\n",
    "window.mainloop()"
   ]
  },
  {
   "cell_type": "code",
   "execution_count": 16,
   "metadata": {},
   "outputs": [],
   "source": [
    "from tkinter import *\n",
    "\n",
    "def clicked():\n",
    "    lbl2.configure(text=\"Butona tıklandı.\")\n",
    "\n",
    "window = Tk()\n",
    "window.title(\"Hesap Makinesi\")\n",
    "window.geometry('350x200')\n",
    "lbl = Label(window, text=\"Merhaba\")\n",
    "lbl2 = Label(window, text=\"\")\n",
    "lbl.grid(column=0, row=0)\n",
    "lbl2.grid(column=0, row=2)\n",
    "btn = Button(window, text=\"Tıkla\", command=clicked)\n",
    "btn.grid(column=0, row=1)\n",
    "window.mainloop()"
   ]
  },
  {
   "cell_type": "code",
   "execution_count": null,
   "metadata": {},
   "outputs": [],
   "source": [
    "from tkinter import *\n",
    "\n",
    "def clicked():\n",
    "    lbl2.grid(column=1, row=2)\n",
    "    lbl2.configure(text=\"Butona tıklandı.\")\n",
    "\n",
    "window = Tk()\n",
    "window.title(\"Hesap Makinesi\")\n",
    "window.geometry('350x200')\n",
    "lbl = Label(window, text=\"Merhaba\")\n",
    "lbl2 = Label(window, text=\"\")\n",
    "lbl.grid(column=1, row=0)\n",
    "btn = Button(window, text=\"Tıkla\", command=clicked)\n",
    "btn.grid(column=1, row=1)\n",
    "\n",
    "txt = Entry(window,width=10)\n",
    "txt.grid(column=1, row=3)\n",
    "\n",
    "window.mainloop()"
   ]
  },
  {
   "cell_type": "code",
   "execution_count": 17,
   "metadata": {},
   "outputs": [],
   "source": [
    "from tkinter import *\n",
    "\n",
    "def clicked():\n",
    "    res = \"Hoşgeldin \" + txt.get()\n",
    "    lbl2.configure(text= res)\n",
    "    lbl2.grid(column=1, row=3)\n",
    "\n",
    "window = Tk()\n",
    "window.title(\"Hesap Makinesi\")\n",
    "window.geometry('350x200')\n",
    "lbl = Label(window, text=\"Merhaba\")\n",
    "lbl2 = Label(window, text=\"\")\n",
    "lbl.grid(column=1, row=0)\n",
    "btn = Button(window, text=\"Tıkla\", command=clicked)\n",
    "btn.grid(column=1, row=1)\n",
    "\n",
    "txt = Entry(window,width=10)\n",
    "txt.grid(column=1, row=2)\n",
    "\n",
    "window.mainloop()"
   ]
  },
  {
   "cell_type": "code",
   "execution_count": 20,
   "metadata": {},
   "outputs": [],
   "source": [
    "#disabled\n",
    "\n",
    "from tkinter import *\n",
    "\n",
    "def clicked():\n",
    "    txt = Entry(window,width=10)\n",
    "    txt.grid(column=1, row=2)\n",
    "\n",
    "window = Tk()\n",
    "window.title(\"Hesap Makinesi\")\n",
    "window.geometry('350x200')\n",
    "lbl = Label(window, text=\"Merhaba\")\n",
    "lbl.grid(column=1, row=0)\n",
    "btn = Button(window, text=\"Tıkla\", command=clicked)\n",
    "btn.grid(column=1, row=1)\n",
    "\n",
    "#txt = Entry(window,width=10)\n",
    "txt = Entry(window,width=10, state='disabled')\n",
    "txt.grid(column=1, row=2)\n",
    "\n",
    "window.mainloop()"
   ]
  },
  {
   "cell_type": "code",
   "execution_count": 18,
   "metadata": {},
   "outputs": [],
   "source": [
    "#combo\n",
    "from tkinter import *\n",
    "from tkinter.ttk import *\n",
    "def clicked():\n",
    "    res = combo.get()\n",
    "    lbl.configure(text= res)\n",
    "\n",
    "window = Tk()\n",
    "window.title(\"Deneme\")\n",
    "window.geometry('350x200')\n",
    "\n",
    "combo = Combobox(window)\n",
    "combo['values']= (1, 2, 3, 4, 5, \"Seç\")\n",
    "combo.current(5) #set the selected item\n",
    "combo.grid(column=0, row=0)\n",
    "\n",
    "btn = Button(window, text=\"Tıkla\", command=clicked)\n",
    "btn.grid(column=1, row=0)\n",
    "\n",
    "lbl = Label(window, text=\"Şeç\")\n",
    "lbl.grid(column=2, row=0)\n",
    "\n",
    "\n",
    "window.mainloop()"
   ]
  },
  {
   "cell_type": "code",
   "execution_count": 3,
   "metadata": {},
   "outputs": [],
   "source": [
    "from tkinter import *\n",
    "\n",
    "def clicked():\n",
    "    print(chk_state.get())\n",
    "    if(chk_state.get()):\n",
    "        print(\"if\")\n",
    "        chk_state.set(False)\n",
    "    else:\n",
    "        print(\"else\")\n",
    "        chk_state.set(True)\n",
    "\n",
    "window = Tk()\n",
    "window.title(\"Deneme\")\n",
    "window.geometry('350x200')\n",
    "chk_state = BooleanVar()\n",
    "chk_state.set(True) #set check state\n",
    "chk = Checkbutton(window, text='Seç', var=chk_state)\n",
    "chk.grid(column=0, row=0)\n",
    "\n",
    "btn = Button(window, text=\"Tıkla\", command=clicked)\n",
    "btn.grid(column=1, row=0)\n",
    "\n",
    "window.mainloop()\n",
    "\n",
    "#chk_state = IntVar()\n",
    "#chk_state.set(0) #uncheck\n",
    "#chk_state.set(1) #check"
   ]
  },
  {
   "cell_type": "code",
   "execution_count": 23,
   "metadata": {},
   "outputs": [],
   "source": [
    "from tkinter import *\n",
    "\n",
    "def clicked():\n",
    "    islem = selected.get()\n",
    "    a = int(txt1.get())\n",
    "    b = int(txt2.get())\n",
    "    if(islem == 1):\n",
    "        cvp = a + b\n",
    "    elif islem == 2:\n",
    "        cvp = a-b\n",
    "    elif islem == 3:\n",
    "        cvp = a/b\n",
    "    else:\n",
    "        cvp = a*b\n",
    "        \n",
    "    lbl = Label(window, text=\"\" + str(cvp))\n",
    "    lbl.grid(column=1, row=3)\n",
    "\n",
    "\n",
    "window = Tk()\n",
    "window.title(\"Hesap Makinesi\")\n",
    "window.geometry('500x500')\n",
    "\n",
    "\n",
    "txt1 = Entry(window,width=20)\n",
    "txt1.grid(column=0, row=0)\n",
    "\n",
    "txt2 = Entry(window,width=20)\n",
    "txt2.grid(column=2, row=0)\n",
    "\n",
    "selected = IntVar()\n",
    "selected.set(2)\n",
    "rad1 = Radiobutton(window,text='+', value=1, variable=selected)\n",
    "rad2 = Radiobutton(window,text='-', value=2, variable=selected)\n",
    "rad3 = Radiobutton(window,text='/', value=3, variable=selected)\n",
    "rad4 = Radiobutton(window,text=\"*\", value=4, variable=selected)\n",
    "rad1.grid(column=0, row=1)\n",
    "rad2.grid(column=1, row=1)\n",
    "rad3.grid(column=2, row=1)\n",
    "rad4.grid(column=3, row=1)\n",
    "\n",
    "btn = Button(window, text=\"Hesapla\", command=clicked)\n",
    "btn.grid(column=1, row=2)\n",
    "\n",
    "\n",
    "\n",
    "window.mainloop()"
   ]
  },
  {
   "cell_type": "markdown",
   "metadata": {},
   "source": [
    "## requests ve BeautifulSoup Modülleri (İnternetten Veri Çekme)"
   ]
  },
  {
   "cell_type": "markdown",
   "metadata": {},
   "source": [
    "**Kurulum:**"
   ]
  },
  {
   "cell_type": "markdown",
   "metadata": {},
   "source": [
    "1) https://pip.pypa.io/en/latest/installing/ adresine gidiyoruz site içerisindeki\n",
    "\n",
    "    a) curl https://bootstrap.pypa.io/get-pip.py -o get-pip.py\n",
    "    \n",
    "    b) python get-pip.py\\n\n",
    "    \n",
    "    komutlarını konsol(cmd) üzerinde çalıştırarak pip'i kuruyoruz ve sonrasında requests ve BeautifulSoup modullerini\n",
    "    pip'i vasıtası ile kuracağız.\n",
    "    \n",
    "2) requests ve BeautifulSoup modullerinin kurulumu: aşağıdaki komutları konsol(cmd) üzerinde çalıştırıyoruz.\n",
    "\n",
    "    a) pip3 install requests\n",
    "    \n",
    "    b) pip3 install beautifulsoup4"
   ]
  },
  {
   "cell_type": "markdown",
   "metadata": {},
   "source": [
    "**Html Not:**\n",
    "\n",
    "Bu konu temel seviye html bilgisi gerektirdiği için aşağıda linki verilen web sitesini inceleyebilirsiniz.\n",
    "\n",
    "http://zinzinzibidi.com/web_tasarim/html5/temel_html5_dersleri"
   ]
  },
  {
   "cell_type": "code",
   "execution_count": null,
   "metadata": {},
   "outputs": [],
   "source": [
    "import requests \n",
    "from bs4 import BeautifulSoup\n",
    "\n",
    "url =  \"https://www.imdb.com/chart/top\" # site url \n",
    "response =  requests.get(url) # Web sayfasını çekiyoruz.\n",
    "#print(response)\n",
    "html_icerigi = response.content  # Web sayfasının içeriğini çekiyoruz.\n",
    "bSoup =  BeautifulSoup(html_icerigi,\"html.parser\") # BeautifulSoup nesnesi ile web sitemizi parçalıyoruz.\n",
    "#print(bSoup)\n",
    "print(bSoup.prettify()) #prettify metodunu daha güzel bir görüntü almak için kullanıyoruz."
   ]
  },
  {
   "cell_type": "code",
   "execution_count": null,
   "metadata": {},
   "outputs": [],
   "source": [
    "import requests \n",
    "from bs4 import BeautifulSoup\n",
    "\n",
    "url =  \"https://www.imdb.com/chart/top\"\n",
    "\n",
    "response =  requests.get(url)\n",
    "\n",
    "html_icerigi = response.content\n",
    "bSoup =  BeautifulSoup(html_icerigi,\"html.parser\")\n",
    "\n",
    "\n",
    "#print(soup.find_all(\"a\")) #Tüm <a> etiketlerini liste şeklinde alıyoruz.\n",
    "for i in bSoup.find_all(\"a\"):#daha düzgün olarak a etiketlerini görüntüleme\n",
    "    print(i)\n",
    "    print(\"***********************************************************************************************************\")"
   ]
  },
  {
   "cell_type": "code",
   "execution_count": null,
   "metadata": {},
   "outputs": [],
   "source": [
    "import requests \n",
    "from bs4 import BeautifulSoup\n",
    "\n",
    "url =  \"https://www.imdb.com/chart/top\"\n",
    "response =  requests.get(url)\n",
    "html_icerigi = response.content\n",
    "bSoup =  BeautifulSoup(html_icerigi,\"html.parser\")\n",
    "\n",
    "for i in bSoup.find_all(\"a\"):\n",
    "    print(i.get(\"href\"))#site içerisindeki a taglarının href özlliklerini alıyoruz."
   ]
  },
  {
   "cell_type": "code",
   "execution_count": null,
   "metadata": {},
   "outputs": [],
   "source": [
    "import requests \n",
    "from bs4 import BeautifulSoup\n",
    "\n",
    "url =  \"https://www.imdb.com/chart/top\" #Site linki\n",
    "response =  requests.get(url) # Web sayfasını çekiyoruz.\n",
    "html_icerigi = response.content  # Web sayfasının içeriğini alıyoruz.\n",
    "bSoup =  BeautifulSoup(html_icerigi,\"html.parser\") # BeautifulSoup nesnesi ile web sitemizi parçalıyoruz.\n",
    "\n",
    "for i in bSoup.find_all(\"a\"):\n",
    "    print(i.text)"
   ]
  },
  {
   "cell_type": "markdown",
   "metadata": {},
   "source": [
    "## Zip Fonksiyonu ##"
   ]
  },
  {
   "cell_type": "code",
   "execution_count": null,
   "metadata": {},
   "outputs": [],
   "source": [
    "liste1 = [1,2,3,4,5,6]\n",
    "liste2 = [2,4,6,8,10,12]\n",
    "zipData = list(zip(liste1,liste2))\n",
    "print(list(zipData))\n",
    "\n",
    "for i,j in zipData:\n",
    "    print(\"i : {}, j: {}\".format(i,j))"
   ]
  },
  {
   "cell_type": "code",
   "execution_count": 5,
   "metadata": {},
   "outputs": [
    {
     "name": "stdout",
     "output_type": "stream",
     "text": [
      "Rating'i giriniz:9\n",
      "Film ismi: 1.      The Shawshank Redemption(1994) Filmin Ratingi : 9.2\n",
      "Film ismi: 2.      The Godfather(1972) Filmin Ratingi : 9.2\n"
     ]
    }
   ],
   "source": [
    "import requests\n",
    "from bs4 import BeautifulSoup\n",
    "\n",
    "url = \"http://www.imdb.com/chart/top\"\n",
    "response = requests.get(url)\n",
    "html_icerigi = response.content\n",
    "\n",
    "bSoup = BeautifulSoup(html_icerigi,\"html.parser\")\n",
    "\n",
    "a = float(input(\"Rating'i giriniz:\"))\n",
    "\n",
    "basliklar = bSoup.find_all(\"td\",{\"class\":\"titleColumn\"})\n",
    "ratingler = bSoup.find_all(\"td\",{\"class\",\"ratingColumn imdbRating\"})\n",
    "\n",
    "\"\"\"\n",
    "for i in soup.find_all(\"td\",{\"class\":\"titleColumn\"}):\n",
    "    print(i) #print(i.text)\n",
    "    print(\"*******************************************************\")\n",
    "\"\"\"\n",
    "\n",
    "# basliklar ve ratingler listelerinin ikisinin de boyutu 250 bu yüzden zip fonk. kullanabiliriz.\n",
    "#print(len(basliklar),len(ratingler))\n",
    "for baslik, rating in zip(basliklar,ratingler):\n",
    "    baslik = baslik.text\n",
    "    rating = rating.text\n",
    "\n",
    "    baslik = baslik.strip()\n",
    "    baslik = baslik.replace(\"\\n\",\"\")\n",
    "\n",
    "    rating = rating.strip()\n",
    "    rating = rating.replace(\"\\n\",\"\")\n",
    "\n",
    "    if (float(rating) > a): #Kulllanıcının girdiği rating den büyükse yazdır dedik.\n",
    "        print(\"Film ismi: {} Filmin Ratingi : {}\".format(baslik,rating))\n",
    "\n"
   ]
  },
  {
   "cell_type": "code",
   "execution_count": 6,
   "metadata": {},
   "outputs": [
    {
     "name": "stdout",
     "output_type": "stream",
     "text": [
      "Alış\n",
      "5,7190\n",
      "Satış\n",
      "5,7203\n",
      "% 0,07\n",
      "\n",
      "Son Güncelleme: 14:06\n",
      "['Alış', '5,7190', 'Satış', '5,7203', '% 0,07', '', 'Son Güncelleme: 14:06']\n",
      "Alış: 5,7190\n"
     ]
    }
   ],
   "source": [
    "import requests \n",
    "from bs4 import BeautifulSoup\n",
    "\n",
    "url =  \"https://kur.doviz.com/serbest-piyasa/amerikan-dolari\" # Site linkimiz \n",
    "\n",
    "response =  requests.get(url) # Web sayfamızı çekiyoruz.\n",
    "html_icerigi = response.content  # Web sayfamızın içeriğini alıyoruz.\n",
    "\n",
    "bSoup =  BeautifulSoup(html_icerigi,\"html.parser\") # Web sayfamızı parçalamak için BeautifulSoup objesine atıyoruz.\n",
    "#print(bSoup)\n",
    "#print(bSoup.prettify()) # Daha güzel bir görüntü için prettify() fonksiyonunu kullanıyoruz.   kur-title\n",
    "\n",
    "liste = list()\n",
    "for i in bSoup.find_all(\"div\",{\"class\":\"col\"}):\n",
    "    #print(i)\n",
    "    for j in i.find_all(\"span\"):\n",
    "        liste.append(j.text)\n",
    "        print(j.text)\n",
    "        \n",
    "print(liste)\n",
    "print(\"Alış:\", liste[1])"
   ]
  },
  {
   "cell_type": "code",
   "execution_count": null,
   "metadata": {},
   "outputs": [],
   "source": []
  }
 ],
 "metadata": {
  "kernelspec": {
   "display_name": "Python 3",
   "language": "python",
   "name": "python3"
  },
  "language_info": {
   "codemirror_mode": {
    "name": "ipython",
    "version": 3
   },
   "file_extension": ".py",
   "mimetype": "text/x-python",
   "name": "python",
   "nbconvert_exporter": "python",
   "pygments_lexer": "ipython3",
   "version": "3.7.1"
  }
 },
 "nbformat": 4,
 "nbformat_minor": 2
}
